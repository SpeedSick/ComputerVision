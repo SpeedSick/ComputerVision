{
 "cells": [
  {
   "cell_type": "code",
   "execution_count": null,
   "metadata": {},
   "outputs": [],
   "source": [
    "import matplotlib.pyplot as plt\n",
    "#import matplotlib.image as img\n",
    "import numpy as np\n",
    "import scipy.misc as img\n",
    "from skimage import feature\n",
    "\n",
    "from scipy import ndimage\n",
    "import random\n",
    "%matplotlib inline\n",
    "\n",
    "\n",
    "image = img.imread('./photo_2.jpg')\n",
    "imag = img.imread('./photo_2.jpg', mode = 'F')\n",
    "im = image\n",
    "\n",
    "\n",
    "fig = plt.figure(figsize=(15,10))\n",
    "\n",
    "plt.subplot(223)\n",
    "plt.imshow(image)\n",
    "\n",
    "plt.subplot(221)\n",
    "plt.hist(im.ravel(), 256, [0,256])\n",
    "\n",
    "\n",
    "sumr = 0\n",
    "sumg = 0\n",
    "sumb = 0\n",
    "for i in range(image.shape[0]):\n",
    "    for j in range(image.shape[1]):\n",
    "        sumr += image[i,j,0]\n",
    "        sumg += image[i,j,1]\n",
    "        sumb += image[i,j,2]\n",
    "\n",
    "sumr /= image.size\n",
    "sumg /= image.size\n",
    "sumb /= image.size\n",
    "\n",
    "avg = sumr + sumg + sumb\n",
    "avg /= 3\n",
    "\n",
    "\n",
    "for i in range(image.shape[0]):\n",
    "    for j in range(image.shape[1]):\n",
    "        image[i,j,0]*=avg/sumr\n",
    "        image[i,j,1]*=avg/sumg\n",
    "        image[i,j,2]*=avg/sumb\n",
    "                \n",
    "\n",
    "plt.subplot(222)\n",
    "plt.imshow(image-im)\n",
    "\n",
    "\n",
    "\n",
    "plt.show()\n"
   ]
  },
  {
   "cell_type": "code",
   "execution_count": null,
   "metadata": {
    "collapsed": true
   },
   "outputs": [],
   "source": []
  },
  {
   "cell_type": "code",
   "execution_count": null,
   "metadata": {
    "collapsed": true
   },
   "outputs": [],
   "source": []
  }
 ],
 "metadata": {
  "kernelspec": {
   "display_name": "Python 3",
   "language": "python",
   "name": "python3"
  },
  "language_info": {
   "codemirror_mode": {
    "name": "ipython",
    "version": 3
   },
   "file_extension": ".py",
   "mimetype": "text/x-python",
   "name": "python",
   "nbconvert_exporter": "python",
   "pygments_lexer": "ipython3",
   "version": "3.6.2"
  }
 },
 "nbformat": 4,
 "nbformat_minor": 2
}
